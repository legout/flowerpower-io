{
 "cells": [
  {
   "cell_type": "markdown",
   "id": "1232f468",
   "metadata": {},
   "source": [
    "# Savers\n",
    "\n",
    "Savers in `flowerpower-io` are responsible for writing data from a standardized data structure (typically a Polars DataFrame, but also supporting Pandas DataFrames and PyArrow Tables) to various destinations and formats. All saver classes inherit from `BaseFileWriter` or `BaseDatabaseWriter`, providing a consistent API for data output.\n",
    "\n",
    "## Available Saver Classes\n",
    "\n",
    "Here's a list of the currently supported saver classes:\n",
    "\n",
    "*   `CSVFileWriter` and `CSVDatasetWriter`: For writing data to CSV files and CSV datasets (e.g., partitioned CSVs).\n",
    "*   `DeltaTableWriter`: For writing data to Delta Lake tables.\n",
    "*   `DuckDBWriter`: For writing data to DuckDB databases.\n",
    "*   `JsonFileWriter` and `JsonDatasetWriter`: For writing data to JSON files and JSON datasets.\n",
    "*   `MSSQLWriter`: For writing data to Microsoft SQL Server databases.\n",
    "*   `MySQLWriter`: For writing data to MySQL databases.\n",
    "*   `OracleDBWriter`: For writing data to Oracle databases.\n",
    "*   `ParquetFileWriter` and `ParquetDatasetWriter`: For writing data to Parquet files and Parquet datasets.\n",
    "*   `PostgreSQLWriter`: For writing data to PostgreSQL databases.\n",
    "*   `PydalaDatasetWriter`: For writing data using Pydala's dataset capabilities.\n",
    "*   `SQLiteWriter`: For writing data to SQLite databases.\n",
    "*   `MQTTSaver`: For publishing data to MQTT topics.\n",
    "\n",
    "## Examples\n",
    "\n",
    "### CSV Saver (`CSVFileWriter`)\n",
    "\n",
    "The `CSVFileWriter` allows you to easily save data to a CSV file."
   ]
  },
  {
   "cell_type": "code",
   "execution_count": 1,
   "id": "337743ad",
   "metadata": {},
   "outputs": [],
   "source": [
    "#| eval: false\n",
    "#| echo: true\n",
    "\n",
    "import pandas as pd\n",
    "import os\n",
    "from flowerpower_io.saver import CSVFileWriter\n",
    "\n",
    "# Create a dummy DataFrame\n",
    "df_to_save = pd.DataFrame({'id': [1, 2, 3], 'name': ['Alice', 'Bob', 'Charlie']})\n",
    "output_csv_path = \"output_data.csv\"\n",
    "\n",
    "# Save data to CSV\n",
    "writer = CSVFileWriter(path=output_csv_path)\n",
    "writer.write(df_to_save)\n",
    "\n",
    "print(f\"Data saved to {output_csv_path}\")\n",
    "print(f\"File exists: {os.path.exists(output_csv_path)}\")\n",
    "\n",
    "# Clean up\n",
    "os.remove(output_csv_path)"
   ]
  },
  {
   "cell_type": "markdown",
   "id": "b7bed80f",
   "metadata": {},
   "source": [
    "### JSON Saver (`JsonFileWriter`)\n",
    "\n",
    "The `JsonFileWriter` is used to save data to JSON files."
   ]
  },
  {
   "cell_type": "code",
   "execution_count": 2,
   "id": "2c13bdb7",
   "metadata": {},
   "outputs": [],
   "source": [
    "#| eval: false\n",
    "#| echo: true\n",
    "\n",
    "import pandas as pd\n",
    "import os\n",
    "from flowerpower_io.saver import JsonFileWriter\n",
    "\n",
    "# Create a dummy DataFrame\n",
    "df_products = pd.DataFrame([\n",
    "  {\"product\": \"Laptop\", \"price\": 1200},\n",
    "  {\"product\": \"Mouse\", \"price\": 25},\n",
    "  {\"product\": \"Keyboard\", \"price\": 75}\n",
    "])\n",
    "output_json_path = \"output_products.json\"\n",
    "\n",
    "# Save data to JSON\n",
    "writer = JsonFileWriter(path=output_json_path)\n",
    "writer.write(df_products)\n",
    "\n",
    "print(f\"Data saved to {output_json_path}\")\n",
    "print(f\"File exists: {os.path.exists(output_json_path)}\")\n",
    "\n",
    "# Clean up\n",
    "os.remove(output_json_path)"
   ]
  },
  {
   "cell_type": "markdown",
   "id": "1afb95e2",
   "metadata": {},
   "source": [
    "### SQLite Saver (`SQLiteWriter`)\n",
    "\n",
    "The `SQLiteWriter` enables writing data to SQLite databases."
   ]
  },
  {
   "cell_type": "code",
   "execution_count": 3,
   "id": "82914f0b",
   "metadata": {},
   "outputs": [],
   "source": [
    "#| eval: false\n",
    "#| echo: true\n",
    "\n",
    "import pandas as pd\n",
    "import os\n",
    "import sqlite3\n",
    "from flowerpower_io.saver import SQLiteWriter\n",
    "\n",
    "# Create a dummy DataFrame\n",
    "df_orders = pd.DataFrame({'order_id': [1, 2, 3], 'item': ['Book', 'Pen', 'Book'], 'quantity': [2, 5, 1]})\n",
    "db_path = \"output_sales.db\"\n",
    "\n",
    "# Initialize SQLiteWriter\n",
    "writer = SQLiteWriter(path=db_path, table_name=\"orders\", mode=\"replace\")\n",
    "\n",
    "# Save data to SQLite\n",
    "writer.write(df_orders)\n",
    "\n",
    "print(f\"Data saved to {db_path} in table 'orders'.\")\n",
    "print(f\"Database file exists: {os.path.exists(db_path)}\")\n",
    "\n",
    "# Verify data by reading it back (optional)\n",
    "conn = sqlite3.connect(db_path)\n",
    "df_verify = pd.read_sql(\"SELECT * FROM orders\", conn)\n",
    "print(\"\\nData verified from SQLite:\")\n",
    "print(df_verify)\n",
    "conn.close()\n",
    "\n",
    "# Clean up\n",
    "os.remove(db_path)"
   ]
  }
 ],
 "metadata": {
  "kernelspec": {
   "display_name": "Python 3 (ipykernel)",
   "language": "python",
   "name": "python3",
   "path": "/Users/z0043ddz/coding/libs/flowerpower-io/.venv/share/jupyter/kernels/python3"
  },
  "language_info": {
   "codemirror_mode": {
    "name": "ipython",
    "version": 3
   },
   "file_extension": ".py",
   "mimetype": "text/x-python",
   "name": "python",
   "nbconvert_exporter": "python",
   "pygments_lexer": "ipython3",
   "version": "3.13.0"
  }
 },
 "nbformat": 4,
 "nbformat_minor": 5
}
